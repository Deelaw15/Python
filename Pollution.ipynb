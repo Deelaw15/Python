{
 "cells": [
  {
   "cell_type": "markdown",
   "id": "7e28efe3-82e6-49b8-8193-42de83e38137",
   "metadata": {},
   "source": [
    "# Exploratory Data Analysis"
   ]
  },
  {
   "cell_type": "markdown",
   "id": "8ae09728-8615-446f-aa29-a963f287017b",
   "metadata": {},
   "source": [
    "Here is an Exploratory Data Analysis on World's Air Quality and Water Pollution Dataset "
   ]
  },
  {
   "cell_type": "markdown",
   "id": "116797c2-adc0-4042-8a7d-a8b320289cbc",
   "metadata": {},
   "source": [
    "This Dataset consists of 3963 rows and 5 columns. The objective of this exploratory data analysis is to assess global air quality and water pollution levels, identifying key patterns, trends, and disparities across different countries. Through this analysis, we aim to rank the cleanest and most polluted countries, uncover any relationship between air quality and water pollution, and provide insights into regions most affected by environmental degradation. This information can offer valuable context for policymakers and environmental stakeholders in targeting efforts to improve environmental health and sustainability worldwide."
   ]
  },
  {
   "cell_type": "markdown",
   "id": "c9babebc-b11b-46ba-9962-a8265b53b677",
   "metadata": {},
   "source": [
    "Notes:\n",
    "\n",
    "*Air Quality Rank: 100 (Good Quality) - 0 (Bad Quality)*\n",
    "\n",
    "*Water Pollution: 100 (Highly Polluted) - 0 (Less Polluted)*"
   ]
  },
  {
   "cell_type": "code",
   "execution_count": 110,
   "id": "b1d75b03-c27a-4b4e-a385-c50cb5611ecc",
   "metadata": {},
   "outputs": [],
   "source": [
    "#Import libraries for Cleaning and Visualization\n",
    "\n",
    "import pandas as pd\n",
    "import numpy as np\n",
    "import matplotlib.pyplot as plt\n",
    "import seaborn as sns"
   ]
  },
  {
   "cell_type": "code",
   "execution_count": 112,
   "id": "120201b2-10d8-4bb6-bc39-f1a2537094ea",
   "metadata": {},
   "outputs": [],
   "source": [
    "# importing the dataset\n",
    "\n",
    "df = pd.read_csv('pollution.csv')"
   ]
  },
  {
   "cell_type": "code",
   "execution_count": 114,
   "id": "00a2cac1-50c1-4804-b419-4ae5d5f61608",
   "metadata": {},
   "outputs": [
    {
     "data": {
      "text/html": [
       "<div>\n",
       "<style scoped>\n",
       "    .dataframe tbody tr th:only-of-type {\n",
       "        vertical-align: middle;\n",
       "    }\n",
       "\n",
       "    .dataframe tbody tr th {\n",
       "        vertical-align: top;\n",
       "    }\n",
       "\n",
       "    .dataframe thead th {\n",
       "        text-align: right;\n",
       "    }\n",
       "</style>\n",
       "<table border=\"1\" class=\"dataframe\">\n",
       "  <thead>\n",
       "    <tr style=\"text-align: right;\">\n",
       "      <th></th>\n",
       "      <th>City</th>\n",
       "      <th>\"Region\"</th>\n",
       "      <th>\"Country\"</th>\n",
       "      <th>\"AirQuality\"</th>\n",
       "      <th>\"WaterPollution\"</th>\n",
       "    </tr>\n",
       "  </thead>\n",
       "  <tbody>\n",
       "    <tr>\n",
       "      <th>0</th>\n",
       "      <td>New York City</td>\n",
       "      <td>\"New York\"</td>\n",
       "      <td>\"United States of America\"</td>\n",
       "      <td>46.816038</td>\n",
       "      <td>49.504950</td>\n",
       "    </tr>\n",
       "    <tr>\n",
       "      <th>1</th>\n",
       "      <td>Washington, D.C.</td>\n",
       "      <td>\"District of Columbia\"</td>\n",
       "      <td>\"United States of America\"</td>\n",
       "      <td>66.129032</td>\n",
       "      <td>49.107143</td>\n",
       "    </tr>\n",
       "    <tr>\n",
       "      <th>2</th>\n",
       "      <td>San Francisco</td>\n",
       "      <td>\"California\"</td>\n",
       "      <td>\"United States of America\"</td>\n",
       "      <td>60.514019</td>\n",
       "      <td>43.000000</td>\n",
       "    </tr>\n",
       "    <tr>\n",
       "      <th>3</th>\n",
       "      <td>Berlin</td>\n",
       "      <td>\"\"</td>\n",
       "      <td>\"Germany\"</td>\n",
       "      <td>62.364130</td>\n",
       "      <td>28.612717</td>\n",
       "    </tr>\n",
       "    <tr>\n",
       "      <th>4</th>\n",
       "      <td>Los Angeles</td>\n",
       "      <td>\"California\"</td>\n",
       "      <td>\"United States of America\"</td>\n",
       "      <td>36.621622</td>\n",
       "      <td>61.299435</td>\n",
       "    </tr>\n",
       "    <tr>\n",
       "      <th>...</th>\n",
       "      <td>...</td>\n",
       "      <td>...</td>\n",
       "      <td>...</td>\n",
       "      <td>...</td>\n",
       "      <td>...</td>\n",
       "    </tr>\n",
       "    <tr>\n",
       "      <th>3958</th>\n",
       "      <td>Yanbu</td>\n",
       "      <td>\"Medina Province\"</td>\n",
       "      <td>\"Saudi Arabia\"</td>\n",
       "      <td>0.000000</td>\n",
       "      <td>50.000000</td>\n",
       "    </tr>\n",
       "    <tr>\n",
       "      <th>3959</th>\n",
       "      <td>Cordoba</td>\n",
       "      <td>\"Andalusia\"</td>\n",
       "      <td>\"Spain\"</td>\n",
       "      <td>85.714286</td>\n",
       "      <td>8.333333</td>\n",
       "    </tr>\n",
       "    <tr>\n",
       "      <th>3960</th>\n",
       "      <td>Vic</td>\n",
       "      <td>\"Catalonia\"</td>\n",
       "      <td>\"Spain\"</td>\n",
       "      <td>100.000000</td>\n",
       "      <td>0.000000</td>\n",
       "    </tr>\n",
       "    <tr>\n",
       "      <th>3961</th>\n",
       "      <td>Segovia</td>\n",
       "      <td>\"Castile and Leon\"</td>\n",
       "      <td>\"Spain\"</td>\n",
       "      <td>100.000000</td>\n",
       "      <td>0.000000</td>\n",
       "    </tr>\n",
       "    <tr>\n",
       "      <th>3962</th>\n",
       "      <td>Zamora city</td>\n",
       "      <td>\"Castile and Leon\"</td>\n",
       "      <td>\"Spain\"</td>\n",
       "      <td>100.000000</td>\n",
       "      <td>50.000000</td>\n",
       "    </tr>\n",
       "  </tbody>\n",
       "</table>\n",
       "<p>3963 rows × 5 columns</p>\n",
       "</div>"
      ],
      "text/plain": [
       "                  City                 \"Region\"                    \"Country\"  \\\n",
       "0        New York City               \"New York\"   \"United States of America\"   \n",
       "1     Washington, D.C.   \"District of Columbia\"   \"United States of America\"   \n",
       "2        San Francisco             \"California\"   \"United States of America\"   \n",
       "3               Berlin                       \"\"                    \"Germany\"   \n",
       "4          Los Angeles             \"California\"   \"United States of America\"   \n",
       "...                ...                      ...                          ...   \n",
       "3958             Yanbu        \"Medina Province\"               \"Saudi Arabia\"   \n",
       "3959           Cordoba              \"Andalusia\"                      \"Spain\"   \n",
       "3960               Vic              \"Catalonia\"                      \"Spain\"   \n",
       "3961           Segovia       \"Castile and Leon\"                      \"Spain\"   \n",
       "3962       Zamora city       \"Castile and Leon\"                      \"Spain\"   \n",
       "\n",
       "       \"AirQuality\"   \"WaterPollution\"  \n",
       "0         46.816038          49.504950  \n",
       "1         66.129032          49.107143  \n",
       "2         60.514019          43.000000  \n",
       "3         62.364130          28.612717  \n",
       "4         36.621622          61.299435  \n",
       "...             ...                ...  \n",
       "3958       0.000000          50.000000  \n",
       "3959      85.714286           8.333333  \n",
       "3960     100.000000           0.000000  \n",
       "3961     100.000000           0.000000  \n",
       "3962     100.000000          50.000000  \n",
       "\n",
       "[3963 rows x 5 columns]"
      ]
     },
     "execution_count": 114,
     "metadata": {},
     "output_type": "execute_result"
    }
   ],
   "source": [
    "df"
   ]
  },
  {
   "cell_type": "markdown",
   "id": "5e24da2f-b538-4509-aee3-2248925547dc",
   "metadata": {},
   "source": [
    "## Data Understanding"
   ]
  },
  {
   "cell_type": "code",
   "execution_count": 117,
   "id": "1d2d4422-84f9-4765-9cc6-0da73bd51d33",
   "metadata": {},
   "outputs": [
    {
     "name": "stdout",
     "output_type": "stream",
     "text": [
      "<class 'pandas.core.frame.DataFrame'>\n",
      "RangeIndex: 3963 entries, 0 to 3962\n",
      "Data columns (total 5 columns):\n",
      " #   Column             Non-Null Count  Dtype  \n",
      "---  ------             --------------  -----  \n",
      " 0   City               3963 non-null   object \n",
      " 1    \"Region\"          3963 non-null   object \n",
      " 2    \"Country\"         3963 non-null   object \n",
      " 3    \"AirQuality\"      3963 non-null   float64\n",
      " 4    \"WaterPollution\"  3963 non-null   float64\n",
      "dtypes: float64(2), object(3)\n",
      "memory usage: 154.9+ KB\n"
     ]
    }
   ],
   "source": [
    "#Dataset's Information\n",
    "\n",
    "df.info()"
   ]
  },
  {
   "cell_type": "code",
   "execution_count": 119,
   "id": "fbb51901-8df6-44a1-918d-b408b490bfd5",
   "metadata": {},
   "outputs": [
    {
     "data": {
      "text/plain": [
       "(3963, 5)"
      ]
     },
     "execution_count": 119,
     "metadata": {},
     "output_type": "execute_result"
    }
   ],
   "source": [
    "#Dataset's Shape\n",
    "\n",
    "df.shape"
   ]
  },
  {
   "cell_type": "code",
   "execution_count": 121,
   "id": "2b10e449-6885-4505-a966-bba69cee11cd",
   "metadata": {},
   "outputs": [
    {
     "data": {
      "text/html": [
       "<div>\n",
       "<style scoped>\n",
       "    .dataframe tbody tr th:only-of-type {\n",
       "        vertical-align: middle;\n",
       "    }\n",
       "\n",
       "    .dataframe tbody tr th {\n",
       "        vertical-align: top;\n",
       "    }\n",
       "\n",
       "    .dataframe thead th {\n",
       "        text-align: right;\n",
       "    }\n",
       "</style>\n",
       "<table border=\"1\" class=\"dataframe\">\n",
       "  <thead>\n",
       "    <tr style=\"text-align: right;\">\n",
       "      <th></th>\n",
       "      <th>\"AirQuality\"</th>\n",
       "      <th>\"WaterPollution\"</th>\n",
       "    </tr>\n",
       "  </thead>\n",
       "  <tbody>\n",
       "    <tr>\n",
       "      <th>count</th>\n",
       "      <td>3963.000000</td>\n",
       "      <td>3963.000000</td>\n",
       "    </tr>\n",
       "    <tr>\n",
       "      <th>mean</th>\n",
       "      <td>62.253452</td>\n",
       "      <td>44.635372</td>\n",
       "    </tr>\n",
       "    <tr>\n",
       "      <th>std</th>\n",
       "      <td>30.944753</td>\n",
       "      <td>25.663910</td>\n",
       "    </tr>\n",
       "    <tr>\n",
       "      <th>min</th>\n",
       "      <td>0.000000</td>\n",
       "      <td>0.000000</td>\n",
       "    </tr>\n",
       "    <tr>\n",
       "      <th>25%</th>\n",
       "      <td>37.686567</td>\n",
       "      <td>25.000000</td>\n",
       "    </tr>\n",
       "    <tr>\n",
       "      <th>50%</th>\n",
       "      <td>69.444444</td>\n",
       "      <td>50.000000</td>\n",
       "    </tr>\n",
       "    <tr>\n",
       "      <th>75%</th>\n",
       "      <td>87.500000</td>\n",
       "      <td>57.719393</td>\n",
       "    </tr>\n",
       "    <tr>\n",
       "      <th>max</th>\n",
       "      <td>100.000000</td>\n",
       "      <td>100.000000</td>\n",
       "    </tr>\n",
       "  </tbody>\n",
       "</table>\n",
       "</div>"
      ],
      "text/plain": [
       "       \"AirQuality\"  \"WaterPollution\"\n",
       "count   3963.000000       3963.000000\n",
       "mean      62.253452         44.635372\n",
       "std       30.944753         25.663910\n",
       "min        0.000000          0.000000\n",
       "25%       37.686567         25.000000\n",
       "50%       69.444444         50.000000\n",
       "75%       87.500000         57.719393\n",
       "max      100.000000        100.000000"
      ]
     },
     "execution_count": 121,
     "metadata": {},
     "output_type": "execute_result"
    }
   ],
   "source": [
    "#Dataset summary\n",
    "\n",
    "df.describe()"
   ]
  },
  {
   "cell_type": "code",
   "execution_count": 123,
   "id": "4fa5c1da-ae31-4b96-8f7c-890f6a14fb35",
   "metadata": {},
   "outputs": [
    {
     "data": {
      "text/html": [
       "<div>\n",
       "<style scoped>\n",
       "    .dataframe tbody tr th:only-of-type {\n",
       "        vertical-align: middle;\n",
       "    }\n",
       "\n",
       "    .dataframe tbody tr th {\n",
       "        vertical-align: top;\n",
       "    }\n",
       "\n",
       "    .dataframe thead th {\n",
       "        text-align: right;\n",
       "    }\n",
       "</style>\n",
       "<table border=\"1\" class=\"dataframe\">\n",
       "  <thead>\n",
       "    <tr style=\"text-align: right;\">\n",
       "      <th></th>\n",
       "      <th>City</th>\n",
       "      <th>\"Region\"</th>\n",
       "      <th>\"Country\"</th>\n",
       "      <th>\"AirQuality\"</th>\n",
       "      <th>\"WaterPollution\"</th>\n",
       "    </tr>\n",
       "  </thead>\n",
       "  <tbody>\n",
       "    <tr>\n",
       "      <th>0</th>\n",
       "      <td>New York City</td>\n",
       "      <td>\"New York\"</td>\n",
       "      <td>\"United States of America\"</td>\n",
       "      <td>46.816038</td>\n",
       "      <td>49.504950</td>\n",
       "    </tr>\n",
       "    <tr>\n",
       "      <th>1</th>\n",
       "      <td>Washington, D.C.</td>\n",
       "      <td>\"District of Columbia\"</td>\n",
       "      <td>\"United States of America\"</td>\n",
       "      <td>66.129032</td>\n",
       "      <td>49.107143</td>\n",
       "    </tr>\n",
       "    <tr>\n",
       "      <th>2</th>\n",
       "      <td>San Francisco</td>\n",
       "      <td>\"California\"</td>\n",
       "      <td>\"United States of America\"</td>\n",
       "      <td>60.514019</td>\n",
       "      <td>43.000000</td>\n",
       "    </tr>\n",
       "    <tr>\n",
       "      <th>3</th>\n",
       "      <td>Berlin</td>\n",
       "      <td>\"\"</td>\n",
       "      <td>\"Germany\"</td>\n",
       "      <td>62.364130</td>\n",
       "      <td>28.612717</td>\n",
       "    </tr>\n",
       "    <tr>\n",
       "      <th>4</th>\n",
       "      <td>Los Angeles</td>\n",
       "      <td>\"California\"</td>\n",
       "      <td>\"United States of America\"</td>\n",
       "      <td>36.621622</td>\n",
       "      <td>61.299435</td>\n",
       "    </tr>\n",
       "  </tbody>\n",
       "</table>\n",
       "</div>"
      ],
      "text/plain": [
       "               City                 \"Region\"                    \"Country\"  \\\n",
       "0     New York City               \"New York\"   \"United States of America\"   \n",
       "1  Washington, D.C.   \"District of Columbia\"   \"United States of America\"   \n",
       "2     San Francisco             \"California\"   \"United States of America\"   \n",
       "3            Berlin                       \"\"                    \"Germany\"   \n",
       "4       Los Angeles             \"California\"   \"United States of America\"   \n",
       "\n",
       "    \"AirQuality\"   \"WaterPollution\"  \n",
       "0      46.816038          49.504950  \n",
       "1      66.129032          49.107143  \n",
       "2      60.514019          43.000000  \n",
       "3      62.364130          28.612717  \n",
       "4      36.621622          61.299435  "
      ]
     },
     "execution_count": 123,
     "metadata": {},
     "output_type": "execute_result"
    }
   ],
   "source": [
    "#dataset's First 5 rows\n",
    "\n",
    "df.head()"
   ]
  },
  {
   "cell_type": "code",
   "execution_count": 125,
   "id": "5be8121b-4eac-4ac8-bd86-ad6eadb2076d",
   "metadata": {},
   "outputs": [
    {
     "data": {
      "text/html": [
       "<div>\n",
       "<style scoped>\n",
       "    .dataframe tbody tr th:only-of-type {\n",
       "        vertical-align: middle;\n",
       "    }\n",
       "\n",
       "    .dataframe tbody tr th {\n",
       "        vertical-align: top;\n",
       "    }\n",
       "\n",
       "    .dataframe thead th {\n",
       "        text-align: right;\n",
       "    }\n",
       "</style>\n",
       "<table border=\"1\" class=\"dataframe\">\n",
       "  <thead>\n",
       "    <tr style=\"text-align: right;\">\n",
       "      <th></th>\n",
       "      <th>City</th>\n",
       "      <th>\"Region\"</th>\n",
       "      <th>\"Country\"</th>\n",
       "      <th>\"AirQuality\"</th>\n",
       "      <th>\"WaterPollution\"</th>\n",
       "    </tr>\n",
       "  </thead>\n",
       "  <tbody>\n",
       "    <tr>\n",
       "      <th>3958</th>\n",
       "      <td>Yanbu</td>\n",
       "      <td>\"Medina Province\"</td>\n",
       "      <td>\"Saudi Arabia\"</td>\n",
       "      <td>0.000000</td>\n",
       "      <td>50.000000</td>\n",
       "    </tr>\n",
       "    <tr>\n",
       "      <th>3959</th>\n",
       "      <td>Cordoba</td>\n",
       "      <td>\"Andalusia\"</td>\n",
       "      <td>\"Spain\"</td>\n",
       "      <td>85.714286</td>\n",
       "      <td>8.333333</td>\n",
       "    </tr>\n",
       "    <tr>\n",
       "      <th>3960</th>\n",
       "      <td>Vic</td>\n",
       "      <td>\"Catalonia\"</td>\n",
       "      <td>\"Spain\"</td>\n",
       "      <td>100.000000</td>\n",
       "      <td>0.000000</td>\n",
       "    </tr>\n",
       "    <tr>\n",
       "      <th>3961</th>\n",
       "      <td>Segovia</td>\n",
       "      <td>\"Castile and Leon\"</td>\n",
       "      <td>\"Spain\"</td>\n",
       "      <td>100.000000</td>\n",
       "      <td>0.000000</td>\n",
       "    </tr>\n",
       "    <tr>\n",
       "      <th>3962</th>\n",
       "      <td>Zamora city</td>\n",
       "      <td>\"Castile and Leon\"</td>\n",
       "      <td>\"Spain\"</td>\n",
       "      <td>100.000000</td>\n",
       "      <td>50.000000</td>\n",
       "    </tr>\n",
       "  </tbody>\n",
       "</table>\n",
       "</div>"
      ],
      "text/plain": [
       "             City             \"Region\"        \"Country\"   \"AirQuality\"  \\\n",
       "3958        Yanbu    \"Medina Province\"   \"Saudi Arabia\"       0.000000   \n",
       "3959      Cordoba          \"Andalusia\"          \"Spain\"      85.714286   \n",
       "3960          Vic          \"Catalonia\"          \"Spain\"     100.000000   \n",
       "3961      Segovia   \"Castile and Leon\"          \"Spain\"     100.000000   \n",
       "3962  Zamora city   \"Castile and Leon\"          \"Spain\"     100.000000   \n",
       "\n",
       "       \"WaterPollution\"  \n",
       "3958          50.000000  \n",
       "3959           8.333333  \n",
       "3960           0.000000  \n",
       "3961           0.000000  \n",
       "3962          50.000000  "
      ]
     },
     "execution_count": 125,
     "metadata": {},
     "output_type": "execute_result"
    }
   ],
   "source": [
    "#dataset's Below 5 rows\n",
    "\n",
    "df.tail()"
   ]
  },
  {
   "cell_type": "markdown",
   "id": "3357d670-c1d0-408a-b0a3-c505d511638b",
   "metadata": {},
   "source": [
    "_During data understanding process, I utilized the 'info( )' method to assess the dataset's structure and identify any missing values. This initial overview was crucial for understanding the quality of the data. The shape attribute helped confirm the total number of rows and columns, which provided insight into the dataset's size and scope._\n",
    "\n",
    "_I employed the 'describe( )' method to generate summary statistics for key variables, such as air quality and water pollution scores. This step allowed me to understand their distributions and identify any potential outliers. Additionally, I used the 'head( )' and 'tail( )' functions to visually inspect the first and last entries in the dataset, which helped me identify any anomalies or inconsistencies. These steps were essential in gaining a comprehensive understanding of the dataset, laying the groundwork for effective data cleaning and analysis._ "
   ]
  },
  {
   "cell_type": "markdown",
   "id": "0a37117f-5295-40c7-b9ed-380bcfd28755",
   "metadata": {},
   "source": [
    "## Data Cleaning"
   ]
  },
  {
   "cell_type": "code",
   "execution_count": 129,
   "id": "d7ae486f-f148-4c67-970b-df74eea78697",
   "metadata": {},
   "outputs": [
    {
     "name": "stdout",
     "output_type": "stream",
     "text": [
      "Index(['City', ' \"Region\"', ' \"Country\"', ' \"AirQuality\"',\n",
      "       ' \"WaterPollution\"'],\n",
      "      dtype='object')\n"
     ]
    }
   ],
   "source": [
    "#Dsiplaying my columns\n",
    "\n",
    "print(df.columns)"
   ]
  },
  {
   "cell_type": "code",
   "execution_count": 131,
   "id": "66b72c3f-b14c-435a-a6f9-d7a373ffbb15",
   "metadata": {},
   "outputs": [],
   "source": [
    "#renaming columns to take out unnecessary spaces\n",
    "\n",
    "df.rename(columns = {' \"Country\"':'Country'}, inplace=True)"
   ]
  },
  {
   "cell_type": "code",
   "execution_count": 133,
   "id": "f340ca5f-fe58-4320-a5c6-265645859b9e",
   "metadata": {},
   "outputs": [],
   "source": [
    "#renaming the region column\n",
    "\n",
    "df.rename(columns = {' \"Region\"':'Region'}, inplace=True)"
   ]
  },
  {
   "cell_type": "code",
   "execution_count": 135,
   "id": "32ef9606-0a24-4cf8-80a7-5e45cc1888c0",
   "metadata": {},
   "outputs": [],
   "source": [
    "#renaming the Air Quality column\n",
    "\n",
    "df.rename(columns = {' \"AirQuality\"':'AirQuality'}, inplace=True)"
   ]
  },
  {
   "cell_type": "code",
   "execution_count": 137,
   "id": "2e57a984-3546-4727-a8d3-d781988b0112",
   "metadata": {},
   "outputs": [],
   "source": [
    "#renaming the Water Pollution column\n",
    "\n",
    "df.rename(columns = {' \"WaterPollution\"':'WaterPollution'}, inplace=True)"
   ]
  },
  {
   "cell_type": "code",
   "execution_count": 139,
   "id": "f8c073c3-b39e-4f46-aeba-aaccd5ee6d21",
   "metadata": {},
   "outputs": [
    {
     "data": {
      "text/html": [
       "<div>\n",
       "<style scoped>\n",
       "    .dataframe tbody tr th:only-of-type {\n",
       "        vertical-align: middle;\n",
       "    }\n",
       "\n",
       "    .dataframe tbody tr th {\n",
       "        vertical-align: top;\n",
       "    }\n",
       "\n",
       "    .dataframe thead th {\n",
       "        text-align: right;\n",
       "    }\n",
       "</style>\n",
       "<table border=\"1\" class=\"dataframe\">\n",
       "  <thead>\n",
       "    <tr style=\"text-align: right;\">\n",
       "      <th></th>\n",
       "      <th>City</th>\n",
       "      <th>Region</th>\n",
       "      <th>Country</th>\n",
       "      <th>AirQuality</th>\n",
       "      <th>WaterPollution</th>\n",
       "    </tr>\n",
       "  </thead>\n",
       "  <tbody>\n",
       "    <tr>\n",
       "      <th>0</th>\n",
       "      <td>False</td>\n",
       "      <td>False</td>\n",
       "      <td>False</td>\n",
       "      <td>False</td>\n",
       "      <td>False</td>\n",
       "    </tr>\n",
       "    <tr>\n",
       "      <th>1</th>\n",
       "      <td>False</td>\n",
       "      <td>False</td>\n",
       "      <td>False</td>\n",
       "      <td>False</td>\n",
       "      <td>False</td>\n",
       "    </tr>\n",
       "    <tr>\n",
       "      <th>2</th>\n",
       "      <td>False</td>\n",
       "      <td>False</td>\n",
       "      <td>False</td>\n",
       "      <td>False</td>\n",
       "      <td>False</td>\n",
       "    </tr>\n",
       "    <tr>\n",
       "      <th>3</th>\n",
       "      <td>False</td>\n",
       "      <td>False</td>\n",
       "      <td>False</td>\n",
       "      <td>False</td>\n",
       "      <td>False</td>\n",
       "    </tr>\n",
       "    <tr>\n",
       "      <th>4</th>\n",
       "      <td>False</td>\n",
       "      <td>False</td>\n",
       "      <td>False</td>\n",
       "      <td>False</td>\n",
       "      <td>False</td>\n",
       "    </tr>\n",
       "    <tr>\n",
       "      <th>...</th>\n",
       "      <td>...</td>\n",
       "      <td>...</td>\n",
       "      <td>...</td>\n",
       "      <td>...</td>\n",
       "      <td>...</td>\n",
       "    </tr>\n",
       "    <tr>\n",
       "      <th>3958</th>\n",
       "      <td>False</td>\n",
       "      <td>False</td>\n",
       "      <td>False</td>\n",
       "      <td>False</td>\n",
       "      <td>False</td>\n",
       "    </tr>\n",
       "    <tr>\n",
       "      <th>3959</th>\n",
       "      <td>False</td>\n",
       "      <td>False</td>\n",
       "      <td>False</td>\n",
       "      <td>False</td>\n",
       "      <td>False</td>\n",
       "    </tr>\n",
       "    <tr>\n",
       "      <th>3960</th>\n",
       "      <td>False</td>\n",
       "      <td>False</td>\n",
       "      <td>False</td>\n",
       "      <td>False</td>\n",
       "      <td>False</td>\n",
       "    </tr>\n",
       "    <tr>\n",
       "      <th>3961</th>\n",
       "      <td>False</td>\n",
       "      <td>False</td>\n",
       "      <td>False</td>\n",
       "      <td>False</td>\n",
       "      <td>False</td>\n",
       "    </tr>\n",
       "    <tr>\n",
       "      <th>3962</th>\n",
       "      <td>False</td>\n",
       "      <td>False</td>\n",
       "      <td>False</td>\n",
       "      <td>False</td>\n",
       "      <td>False</td>\n",
       "    </tr>\n",
       "  </tbody>\n",
       "</table>\n",
       "<p>3963 rows × 5 columns</p>\n",
       "</div>"
      ],
      "text/plain": [
       "       City  Region  Country  AirQuality  WaterPollution\n",
       "0     False   False    False       False           False\n",
       "1     False   False    False       False           False\n",
       "2     False   False    False       False           False\n",
       "3     False   False    False       False           False\n",
       "4     False   False    False       False           False\n",
       "...     ...     ...      ...         ...             ...\n",
       "3958  False   False    False       False           False\n",
       "3959  False   False    False       False           False\n",
       "3960  False   False    False       False           False\n",
       "3961  False   False    False       False           False\n",
       "3962  False   False    False       False           False\n",
       "\n",
       "[3963 rows x 5 columns]"
      ]
     },
     "execution_count": 139,
     "metadata": {},
     "output_type": "execute_result"
    }
   ],
   "source": [
    "#checking for null values\n",
    "\n",
    "df.isnull()"
   ]
  },
  {
   "cell_type": "code",
   "execution_count": 141,
   "id": "547cdb35-4cd6-4000-b476-8043d93c2ec0",
   "metadata": {},
   "outputs": [
    {
     "data": {
      "text/plain": [
       "City              0\n",
       "Region            0\n",
       "Country           0\n",
       "AirQuality        0\n",
       "WaterPollution    0\n",
       "dtype: int64"
      ]
     },
     "execution_count": 141,
     "metadata": {},
     "output_type": "execute_result"
    }
   ],
   "source": [
    "#sum of Null values\n",
    "\n",
    "df.isnull().sum()"
   ]
  },
  {
   "cell_type": "code",
   "execution_count": 159,
   "id": "c47b190b-2957-4c22-aed8-b6f07562d1ff",
   "metadata": {},
   "outputs": [],
   "source": [
    "#Replacing the string(\") in the Region column\n",
    "\n",
    "df['Region'] = df['Region'].str.replace('\"', '', regex=True)"
   ]
  },
  {
   "cell_type": "code",
   "execution_count": 161,
   "id": "ae5ab546-87e0-4a90-835e-3f08548002c8",
   "metadata": {},
   "outputs": [],
   "source": [
    "#Replacing the string(\") in the Country column\n",
    "\n",
    "df['Country'] = df['Country'].str.replace('\"', '', regex=True)"
   ]
  },
  {
   "cell_type": "code",
   "execution_count": 163,
   "id": "2a143f4f-be69-4913-8f47-d94096e39471",
   "metadata": {},
   "outputs": [
    {
     "data": {
      "text/html": [
       "<div>\n",
       "<style scoped>\n",
       "    .dataframe tbody tr th:only-of-type {\n",
       "        vertical-align: middle;\n",
       "    }\n",
       "\n",
       "    .dataframe tbody tr th {\n",
       "        vertical-align: top;\n",
       "    }\n",
       "\n",
       "    .dataframe thead th {\n",
       "        text-align: right;\n",
       "    }\n",
       "</style>\n",
       "<table border=\"1\" class=\"dataframe\">\n",
       "  <thead>\n",
       "    <tr style=\"text-align: right;\">\n",
       "      <th></th>\n",
       "      <th>City</th>\n",
       "      <th>Region</th>\n",
       "      <th>Country</th>\n",
       "      <th>AirQuality</th>\n",
       "      <th>WaterPollution</th>\n",
       "    </tr>\n",
       "  </thead>\n",
       "  <tbody>\n",
       "    <tr>\n",
       "      <th>0</th>\n",
       "      <td>New York City</td>\n",
       "      <td>New York</td>\n",
       "      <td>United States of America</td>\n",
       "      <td>46.816038</td>\n",
       "      <td>49.504950</td>\n",
       "    </tr>\n",
       "    <tr>\n",
       "      <th>1</th>\n",
       "      <td>Washington, D.C.</td>\n",
       "      <td>District of Columbia</td>\n",
       "      <td>United States of America</td>\n",
       "      <td>66.129032</td>\n",
       "      <td>49.107143</td>\n",
       "    </tr>\n",
       "    <tr>\n",
       "      <th>2</th>\n",
       "      <td>San Francisco</td>\n",
       "      <td>California</td>\n",
       "      <td>United States of America</td>\n",
       "      <td>60.514019</td>\n",
       "      <td>43.000000</td>\n",
       "    </tr>\n",
       "    <tr>\n",
       "      <th>3</th>\n",
       "      <td>Berlin</td>\n",
       "      <td></td>\n",
       "      <td>Germany</td>\n",
       "      <td>62.364130</td>\n",
       "      <td>28.612717</td>\n",
       "    </tr>\n",
       "    <tr>\n",
       "      <th>4</th>\n",
       "      <td>Los Angeles</td>\n",
       "      <td>California</td>\n",
       "      <td>United States of America</td>\n",
       "      <td>36.621622</td>\n",
       "      <td>61.299435</td>\n",
       "    </tr>\n",
       "    <tr>\n",
       "      <th>...</th>\n",
       "      <td>...</td>\n",
       "      <td>...</td>\n",
       "      <td>...</td>\n",
       "      <td>...</td>\n",
       "      <td>...</td>\n",
       "    </tr>\n",
       "    <tr>\n",
       "      <th>3958</th>\n",
       "      <td>Yanbu</td>\n",
       "      <td>Medina Province</td>\n",
       "      <td>Saudi Arabia</td>\n",
       "      <td>0.000000</td>\n",
       "      <td>50.000000</td>\n",
       "    </tr>\n",
       "    <tr>\n",
       "      <th>3959</th>\n",
       "      <td>Cordoba</td>\n",
       "      <td>Andalusia</td>\n",
       "      <td>Spain</td>\n",
       "      <td>85.714286</td>\n",
       "      <td>8.333333</td>\n",
       "    </tr>\n",
       "    <tr>\n",
       "      <th>3960</th>\n",
       "      <td>Vic</td>\n",
       "      <td>Catalonia</td>\n",
       "      <td>Spain</td>\n",
       "      <td>100.000000</td>\n",
       "      <td>0.000000</td>\n",
       "    </tr>\n",
       "    <tr>\n",
       "      <th>3961</th>\n",
       "      <td>Segovia</td>\n",
       "      <td>Castile and Leon</td>\n",
       "      <td>Spain</td>\n",
       "      <td>100.000000</td>\n",
       "      <td>0.000000</td>\n",
       "    </tr>\n",
       "    <tr>\n",
       "      <th>3962</th>\n",
       "      <td>Zamora city</td>\n",
       "      <td>Castile and Leon</td>\n",
       "      <td>Spain</td>\n",
       "      <td>100.000000</td>\n",
       "      <td>50.000000</td>\n",
       "    </tr>\n",
       "  </tbody>\n",
       "</table>\n",
       "<p>3963 rows × 5 columns</p>\n",
       "</div>"
      ],
      "text/plain": [
       "                  City                 Region                    Country  \\\n",
       "0        New York City               New York   United States of America   \n",
       "1     Washington, D.C.   District of Columbia   United States of America   \n",
       "2        San Francisco             California   United States of America   \n",
       "3               Berlin                                           Germany   \n",
       "4          Los Angeles             California   United States of America   \n",
       "...                ...                    ...                        ...   \n",
       "3958             Yanbu        Medina Province               Saudi Arabia   \n",
       "3959           Cordoba              Andalusia                      Spain   \n",
       "3960               Vic              Catalonia                      Spain   \n",
       "3961           Segovia       Castile and Leon                      Spain   \n",
       "3962       Zamora city       Castile and Leon                      Spain   \n",
       "\n",
       "      AirQuality  WaterPollution  \n",
       "0      46.816038       49.504950  \n",
       "1      66.129032       49.107143  \n",
       "2      60.514019       43.000000  \n",
       "3      62.364130       28.612717  \n",
       "4      36.621622       61.299435  \n",
       "...          ...             ...  \n",
       "3958    0.000000       50.000000  \n",
       "3959   85.714286        8.333333  \n",
       "3960  100.000000        0.000000  \n",
       "3961  100.000000        0.000000  \n",
       "3962  100.000000       50.000000  \n",
       "\n",
       "[3963 rows x 5 columns]"
      ]
     },
     "execution_count": 163,
     "metadata": {},
     "output_type": "execute_result"
    }
   ],
   "source": [
    "df"
   ]
  },
  {
   "cell_type": "code",
   "execution_count": null,
   "id": "b8a7e99a-5758-4ba0-a689-d1e12e6cfbad",
   "metadata": {},
   "outputs": [],
   "source": [
    "#checking the dataframe type\n",
    "\n",
    "df.dtypes"
   ]
  },
  {
   "cell_type": "markdown",
   "id": "6541625b-e534-4862-ba54-b8120de6f06b",
   "metadata": {},
   "source": [
    "_During the data cleaning process, I focused on several key tasks to enhance the dataset's quality. I began by renaming columns for consistency and clarity, making the dataset more user-friendly. I conducted an is null check to identify missing values, which informed decisions on how to handle gaps in the data._\n",
    "\n",
    "_To standardize string entries, I used .str.replace() to clean up inconsistencies, such as removing unnecessary whitespace. Lastly, I examined the data types of each column to ensure correct formatting, identifying any that needed conversion. These steps significantly improved the dataset's overall quality and reliability, setting a solid foundation for analysis._"
   ]
  },
  {
   "cell_type": "markdown",
   "id": "1d6ba0f3-5cee-4317-a73e-82004503c0b4",
   "metadata": {},
   "source": [
    "## Data Preparation"
   ]
  },
  {
   "cell_type": "markdown",
   "id": "c50fa1da-78be-45bf-9b23-27b486fd400e",
   "metadata": {},
   "source": [
    "Preparing the dataset for exploratory analysis"
   ]
  },
  {
   "cell_type": "code",
   "execution_count": null,
   "id": "38b55eb2-61b2-4ed0-a6d3-d689aacaf246",
   "metadata": {},
   "outputs": [],
   "source": [
    "#Checking for duplicates, using \".sum()\" to determine the total number of duplicates\n",
    "\n",
    "df.duplicated().sum()"
   ]
  },
  {
   "cell_type": "code",
   "execution_count": null,
   "id": "73ff9ee6-17ca-47c5-b96a-5315f3386d50",
   "metadata": {},
   "outputs": [],
   "source": [
    "#checking for the common regions in our dataset, first 10 region i our dataset\n",
    "\n",
    "df['Region'].value_counts().head(10)"
   ]
  },
  {
   "cell_type": "code",
   "execution_count": null,
   "id": "7581054f-3479-4a29-9652-dc31384cafbc",
   "metadata": {},
   "outputs": [],
   "source": [
    "#Found a missing value in our dataset and checking for the column\n",
    "\n",
    "df.isna().sum()"
   ]
  },
  {
   "cell_type": "code",
   "execution_count": null,
   "id": "9a954a64-bec3-4d55-9c14-a1e3afe4bd56",
   "metadata": {},
   "outputs": [],
   "source": [
    "#Checking for the empty space in our column\n",
    "\n",
    "(df == ' ').sum()"
   ]
  },
  {
   "cell_type": "code",
   "execution_count": null,
   "id": "a6e36a93-2ec5-4d32-8133-a9f9f613eec6",
   "metadata": {},
   "outputs": [],
   "source": [
    "# Replace empty strings or spaces in 'Region' column with 'Unknown'\n",
    "\n",
    "df['Region'] = df['Region'].replace(r'^\\s*$', 'Unknown', regex=True)\n",
    "df"
   ]
  },
  {
   "cell_type": "code",
   "execution_count": null,
   "id": "de12d741-1531-4b27-9b0c-ee7faa0aadad",
   "metadata": {},
   "outputs": [],
   "source": [
    "#Looking to see if the replace value has been added\n",
    "\n",
    "df['Region'].value_counts().head(10)"
   ]
  },
  {
   "cell_type": "code",
   "execution_count": null,
   "id": "6347d879-1662-4d42-b2af-83af058f3521",
   "metadata": {},
   "outputs": [],
   "source": [
    "df"
   ]
  },
  {
   "cell_type": "code",
   "execution_count": null,
   "id": "0b8d5411-0699-4b78-ba82-dc3bec721a61",
   "metadata": {},
   "outputs": [],
   "source": [
    "#Checking Data Column type\n",
    "\n",
    "df.dtypes"
   ]
  },
  {
   "cell_type": "code",
   "execution_count": null,
   "id": "a53ee81c-a843-4d00-a6c9-dd0385300e19",
   "metadata": {},
   "outputs": [],
   "source": [
    "#Converting the data type for air quality and water pollution into integers\n",
    "\n",
    "df['AirQuality'] = df['AirQuality'].astype(int)\n",
    "df['WaterPollution'] = df['WaterPollution'].astype(int)"
   ]
  },
  {
   "cell_type": "code",
   "execution_count": null,
   "id": "680a8069-ec9a-479f-95de-224d2ebfb3e2",
   "metadata": {},
   "outputs": [],
   "source": [
    "#Checking the data column type to see if our changes have been made\n",
    "\n",
    "df.dtypes"
   ]
  },
  {
   "cell_type": "code",
   "execution_count": null,
   "id": "f8a16add-7f27-4e92-8fe1-30d9098ad321",
   "metadata": {},
   "outputs": [],
   "source": [
    "df"
   ]
  },
  {
   "cell_type": "code",
   "execution_count": null,
   "id": "ff334722-98d3-4c1c-bc69-b251a35a075e",
   "metadata": {},
   "outputs": [],
   "source": [
    "#checking the most country in our dataset\n",
    "\n",
    "df['Country'].value_counts()"
   ]
  },
  {
   "cell_type": "markdown",
   "id": "6d46e392-6535-40d5-aec0-4751e4f9e2be",
   "metadata": {},
   "source": [
    "_In the data preparation phase, I performed several essential tasks to ensure the dataset was ready for analysis. First, I checked for duplicates using the '.duplicated( )' method to identify any repeated entries that could skew results. This step helped maintain the integrity of the dataset._\n",
    "\n",
    "_Next, I utilized the '.replace( )' method to address missing values in the region column. This was crucial for ensuring that all records were complete and could be analyzed without gaps in the data._\n",
    "\n",
    "_Lastly, I employed '.astype( )' to convert the air quality and water pollution values to integers. This conversion was essential for accurate calculations and comparisons in subsequent analyses. Together, these steps prepared the dataset for meaningful insights and analysis._"
   ]
  },
  {
   "cell_type": "markdown",
   "id": "66d89feb-300e-4cc2-9b86-43c1c5899aa2",
   "metadata": {},
   "source": [
    "## Analysis"
   ]
  },
  {
   "cell_type": "markdown",
   "id": "bee217e8-9f89-49f4-b459-773399a2ad88",
   "metadata": {},
   "source": [
    "In the analysis phase, I focused on several key questions to derive meaningful insights from the dataset:\n",
    "\n",
    "* _The Top 20 Countries with the Cleanest Air Quality_\n",
    "* _The Top 20 Countries with Bad Air Quality_\n",
    "* _Top 20 Countries with the Most Water Pollution_\n",
    "* _Top 20 Countries with the Least Water Pollution_\n",
    "* _Which Country has the Highest Water Pollution (Checking the Top 10)_\n",
    "* _Which Country has the Highest Water Pollution, and how do they compare with their Air Quality levels?_\n",
    "* _Calculate the Correlation between Air Quality and Water Pollution_\n",
    "* _Create a Scatter Plot with 'Air Quality' and 'Water Pollution'_\n",
    "\n",
    "These analyses will contribute to a deeper understanding of the environmental status across different countries and highlight areas for potential    intervention and improvement."
   ]
  },
  {
   "cell_type": "code",
   "execution_count": null,
   "id": "d3d3339d-f870-40c6-a9b3-ea00bcce6ec9",
   "metadata": {},
   "outputs": [],
   "source": [
    "#The Top 20 Countries with the Cleanest Air Quality\n",
    "\n",
    "top_countries = df.groupby('Country')['AirQuality'].mean().sort_values(ascending=False)\n",
    "top_20_countries = top_countries.head(20).reset_index()\n",
    "top_20_countries"
   ]
  },
  {
   "cell_type": "code",
   "execution_count": null,
   "id": "9962c6ce-5b8b-42a7-919b-1138b7def7ee",
   "metadata": {},
   "outputs": [],
   "source": [
    "# Set the figure size\n",
    "plt.figure(figsize=(12, 8))\n",
    "\n",
    "# Create a bar plot with 'Air Quality' on the x-axis and 'Country' on the y-axis\n",
    "sns.barplot(x='AirQuality', y='Country', data=top_20_countries)\n",
    "\n",
    "# Customize the plot\n",
    "plt.title('Top 20 Countries with the Cleanest Air Quality')\n",
    "plt.xlabel('Air Quality Score')\n",
    "plt.ylabel('Country')\n",
    "plt.tight_layout()  # Adjust layout for better spacing\n",
    "\n",
    "# Show the plot\n",
    "plt.show()"
   ]
  },
  {
   "cell_type": "code",
   "execution_count": null,
   "id": "a0d46cb8-866b-4829-9358-7814338b0279",
   "metadata": {},
   "outputs": [],
   "source": []
  },
  {
   "cell_type": "code",
   "execution_count": null,
   "id": "b6b780c3-593d-487b-944c-924573305345",
   "metadata": {},
   "outputs": [],
   "source": [
    "#The Top 20 Countries with Bad Air Quality\n",
    "\n",
    "top_countries = df.groupby('Country')['AirQuality'].mean().sort_values(ascending=True)\n",
    "low_20_countries = top_countries.head(20).reset_index()\n",
    "low_20_countries"
   ]
  },
  {
   "cell_type": "code",
   "execution_count": null,
   "id": "561e7994-02a9-4540-b38b-5f2e603bbfae",
   "metadata": {},
   "outputs": [],
   "source": [
    "# figure size\n",
    "plt.figure(figsize=(12, 8))\n",
    "\n",
    "# Create a bar plot with 'Air Quality' on the x-axis and 'Country' on the y-axis\n",
    "sns.barplot(x='AirQuality', y='Country', data=low_20_countries)\n",
    "\n",
    "# Customize the plot\n",
    "plt.title('Top 20 Countries with Bad Air Quality')\n",
    "plt.xlabel('Air Quality Score')\n",
    "plt.ylabel('Country')\n",
    "plt.tight_layout()  # Adjust layout for better spacing\n",
    "\n",
    "# Show the plot\n",
    "plt.show()"
   ]
  },
  {
   "cell_type": "code",
   "execution_count": null,
   "id": "3540cd0b-b89f-40bd-b635-d17c35ff42f0",
   "metadata": {},
   "outputs": [],
   "source": []
  },
  {
   "cell_type": "code",
   "execution_count": null,
   "id": "4857bed1-2514-4ee8-94f0-0607bfc8ac50",
   "metadata": {},
   "outputs": [],
   "source": [
    "#Top 20 Countries with the Most Water Pollution\n",
    "\n",
    "top_countries = df.groupby('Country')['WaterPollution'].mean().sort_values(ascending=False)\n",
    "wp_top_20 = top_countries.head(20).reset_index()\n",
    "wp_top_20"
   ]
  },
  {
   "cell_type": "code",
   "execution_count": null,
   "id": "5c708d55-7677-4d6d-ba6b-d23de4fdcaa0",
   "metadata": {},
   "outputs": [],
   "source": [
    "# figure size\n",
    "plt.figure(figsize=(12, 8))\n",
    "\n",
    "# Create a bar plot with 'Air Quality' on the x-axis and 'Country' on the y-axis\n",
    "sns.barplot(x='WaterPollution', y='Country', data=wp_top_20)\n",
    "\n",
    "# Customize the plot\n",
    "plt.title('Top 20 Countries with Most Water Pollution')\n",
    "plt.xlabel('Water Pollution Score')\n",
    "plt.ylabel('Country')\n",
    "plt.tight_layout()  # Adjust layout for better spacing\n",
    "\n",
    "# Show the plot\n",
    "plt.show()"
   ]
  },
  {
   "cell_type": "code",
   "execution_count": null,
   "id": "21bb35b9-0d11-4228-976d-681cd633fc09",
   "metadata": {},
   "outputs": [],
   "source": []
  },
  {
   "cell_type": "code",
   "execution_count": null,
   "id": "bbae6216-e51f-4eaf-8fdc-48d018f81790",
   "metadata": {},
   "outputs": [],
   "source": [
    "#Top 20 Countries with the Least Water Pollution\n",
    "\n",
    "top_countries = df.groupby('Country')['WaterPollution'].mean().sort_values(ascending=True)\n",
    "wp_low_20 = top_countries.head(20).reset_index()\n",
    "wp_low_20"
   ]
  },
  {
   "cell_type": "code",
   "execution_count": null,
   "id": "0997db5d-56b5-42fd-ba57-6d3a76436420",
   "metadata": {},
   "outputs": [],
   "source": [
    "# figure size\n",
    "plt.figure(figsize=(12, 8))\n",
    "\n",
    "# Create a bar plot with 'Air Quality' on the x-axis and 'Country' on the y-axis\n",
    "sns.barplot(x='WaterPollution', y='Country', data=wp_low_20)\n",
    "\n",
    "# Customize the plot\n",
    "plt.title('Top 20 Countries with Least Water Pollution')\n",
    "plt.xlabel('Water Pollution Score')\n",
    "plt.ylabel('Country')\n",
    "plt.tight_layout()  # Adjust layout for better spacing\n",
    "\n",
    "# Show the plot\n",
    "plt.show()"
   ]
  },
  {
   "cell_type": "code",
   "execution_count": null,
   "id": "fa96abcd-787d-4576-be7c-a2cdd61fac48",
   "metadata": {},
   "outputs": [],
   "source": []
  },
  {
   "cell_type": "code",
   "execution_count": null,
   "id": "689153b6-68a6-4447-bc3b-440af2d6e0ae",
   "metadata": {},
   "outputs": [],
   "source": [
    "#Which Country has the highest Water Pollution, checking the top 10\n",
    "\n",
    "top_10_wp = df.groupby('Country')[['WaterPollution']].mean().sort_values(by='WaterPollution', ascending=False).head(10)\n",
    "print(top_10_wp)"
   ]
  },
  {
   "cell_type": "code",
   "execution_count": null,
   "id": "2ba172af-3a84-44ca-af69-e6cacd726c58",
   "metadata": {},
   "outputs": [],
   "source": [
    "top_10_wp.head(10)"
   ]
  },
  {
   "cell_type": "code",
   "execution_count": null,
   "id": "13a85a78-fcb2-4ba7-bfed-8cf7f32166f5",
   "metadata": {},
   "outputs": [],
   "source": []
  },
  {
   "cell_type": "code",
   "execution_count": null,
   "id": "a6bc717a-e81d-4b8d-a6b0-f5aa77e56126",
   "metadata": {},
   "outputs": [],
   "source": [
    "#Which Country has the highest Water pollution, and how do they compare with their Air Quality levels\n",
    "\n",
    "top_10_polluted = df.groupby('Country')[['WaterPollution', 'AirQuality']].mean().sort_values(by='WaterPollution', ascending=False).head(10)\n",
    "print(top_10_polluted)"
   ]
  },
  {
   "cell_type": "code",
   "execution_count": null,
   "id": "58c8861a-4e39-4013-9f0f-468f6f06e85a",
   "metadata": {},
   "outputs": [],
   "source": [
    "# Reset index for top 10 polluted countries data\n",
    "top_cities = top_10_polluted.reset_index()\n",
    "\n",
    "# Setting up figure size\n",
    "plt.figure(figsize=(10, 6))\n",
    "\n",
    "# Plot Air Quality scores as red bars\n",
    "plt.bar(top_cities['Country'], top_cities['AirQuality'], color='red', label='Air Quality')\n",
    "\n",
    "# Plot Water Pollution scores as green bars with some transparency\n",
    "plt.bar(top_cities['Country'], top_cities['WaterPollution'], color='green', label='Water Pollution', alpha=0.5)\n",
    "\n",
    "# Rotate x-axis labels for better readability\n",
    "plt.xticks(rotation=45, ha='right')\n",
    "\n",
    "# Label the y-axis\n",
    "plt.ylabel('Scores')\n",
    "\n",
    "# Add title to the plot\n",
    "plt.title('Comparison of Air Quality and Water Pollution for Top Countries')\n",
    "\n",
    "# Display legend\n",
    "plt.legend()\n",
    "\n",
    "# Adjust layout for better spacing\n",
    "plt.tight_layout()\n",
    "\n",
    "# Show the plot\n",
    "plt.show()"
   ]
  },
  {
   "cell_type": "code",
   "execution_count": null,
   "id": "a2321242-0658-4ac7-8d6a-ba2b31acc509",
   "metadata": {},
   "outputs": [],
   "source": []
  },
  {
   "cell_type": "code",
   "execution_count": 103,
   "id": "cce92517-bc2b-4bba-8225-b2940a80ee3c",
   "metadata": {},
   "outputs": [
    {
     "name": "stdout",
     "output_type": "stream",
     "text": [
      "Correlation between Air Quality and Water Pollution: -0.4535159758022193\n"
     ]
    }
   ],
   "source": [
    "# Calculate the correlation between Air Quality and Water Pollution\n",
    "correlation = df['AirQuality'].corr(df['WaterPollution'])\n",
    "\n",
    "# Print the correlation result\n",
    "print(f\"Correlation between Air Quality and Water Pollution: {correlation}\")"
   ]
  },
  {
   "cell_type": "code",
   "execution_count": 100,
   "id": "8cf41951-c830-4b7c-a0a2-104759322dae",
   "metadata": {},
   "outputs": [
    {
     "data": {
      "image/png": "[encoded data removed]",
      "text/plain": [
       "<Figure size 1000x600 with 1 Axes>"
      ]
     },
     "metadata": {},
     "output_type": "display_data"
    }
   ],
   "source": [
    "#Setting up figure size\n",
    "plt.figure(figsize=(10, 6))\n",
    "\n",
    "# Creating a scatter plot with 'Air Quality' on the y-axis and 'Water Pollution' on the x-axis\n",
    "sns.scatterplot(x='WaterPollution', y='AirQuality', data=df)\n",
    "\n",
    "# Customize the plot\n",
    "plt.title('Scatter Plot of Air Quality vs. Water Pollution')\n",
    "\n",
    "#label the axis\n",
    "plt.xlabel('Water Pollution Score')\n",
    "plt.ylabel('Air Quality Score')\n",
    "\n",
    "\n",
    "plt.axhline(y=df['AirQuality'].mean(), color='red', linestyle='--', label='Mean Air Quality')\n",
    "plt.axvline(x=df['WaterPollution'].mean(), color='blue', linestyle='--', label='Mean Water Pollution')\n",
    "plt.legend()\n",
    "plt.tight_layout()\n",
    "\n",
    "# Show the plot\n",
    "plt.show()"
   ]
  },
  {
   "cell_type": "markdown",
   "id": "10957a9a-2d7b-4fbb-ab93-b328e5c93582",
   "metadata": {},
   "source": [
    "_The analysis of the \"World's Air Quality and Water Pollution Dataset\" provided valuable insights into the environmental conditions across various countries. By investigating key questions, I was able to identify trends and patterns in air quality and water pollution levels._\n",
    "\n",
    "_One critical observation was the stark contrast between countries with the cleanest air quality and those experiencing significant pollution challenges. This highlights the urgent need for policy interventions in regions struggling with air and water pollution, emphasizing the importance of sustainable practices and environmental regulations._"
   ]
  },
  {
   "cell_type": "code",
   "execution_count": null,
   "id": "b2331386-fb30-42c2-b869-c277a44052b2",
   "metadata": {},
   "outputs": [],
   "source": []
  }
 ],
 "metadata": {
  "kernelspec": {
   "display_name": "Python 3 (ipykernel)",
   "language": "python",
   "name": "python3"
  },
  "language_info": {
   "codemirror_mode": {
    "name": "ipython",
    "version": 3
   },
   "file_extension": ".py",
   "mimetype": "text/x-python",
   "name": "python",
   "nbconvert_exporter": "python",
   "pygments_lexer": "ipython3",
   "version": "3.12.4"
  }
 },
 "nbformat": 4,
 "nbformat_minor": 5
}
